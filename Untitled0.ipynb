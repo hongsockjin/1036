{
  "nbformat": 4,
  "nbformat_minor": 0,
  "metadata": {
    "colab": {
      "provenance": [],
      "authorship_tag": "ABX9TyO0dpPlZ6ouqCcKYNdaa8o1",
      "include_colab_link": true
    },
    "kernelspec": {
      "name": "python3",
      "display_name": "Python 3"
    },
    "language_info": {
      "name": "python"
    }
  },
  "cells": [
    {
      "cell_type": "markdown",
      "metadata": {
        "id": "view-in-github",
        "colab_type": "text"
      },
      "source": [
        "<a href=\"https://colab.research.google.com/github/hongsockjin/1036/blob/ai_test/Untitled0.ipynb\" target=\"_parent\"><img src=\"https://colab.research.google.com/assets/colab-badge.svg\" alt=\"Open In Colab\"/></a>"
      ]
    },
    {
      "cell_type": "code",
      "execution_count": 1,
      "metadata": {
        "id": "ht9i36K2HGCV"
      },
      "outputs": [],
      "source": [
        "import torch\n",
        "import torchvision.datasets as datasets\n",
        "import torchvision.transforms as transforms\n",
        "\n",
        "import random\n",
        "import matplotlib.pyplot as plt"
      ]
    },
    {
      "cell_type": "code",
      "source": [
        "device = 'mps' if torch.backends.mps.is_available() else 'cpu'\n",
        "# 랜덤 시드 고정.\n",
        "\n",
        "# 실험 조건을 동일하게 설정하여,\n",
        "# 같은 input을 넣으면 같은 결과가 나올 수 있도록 함.\n",
        "torch.manual_seed(777)"
      ],
      "metadata": {
        "colab": {
          "base_uri": "https://localhost:8080/"
        },
        "id": "sP8eywIiHN_y",
        "outputId": "5a96e2bf-e1ca-4ada-c6ff-b9e78c2a48fa"
      },
      "execution_count": 2,
      "outputs": [
        {
          "output_type": "execute_result",
          "data": {
            "text/plain": [
              "<torch._C.Generator at 0x7fe059375350>"
            ]
          },
          "metadata": {},
          "execution_count": 2
        }
      ]
    },
    {
      "cell_type": "code",
      "source": [
        "batch_size = 128        # 배치크기\n",
        "epochs = 15             # 학습 횟수\n",
        "learning_rate = 0.001   # 학습률"
      ],
      "metadata": {
        "id": "kKnD-BjIHQud"
      },
      "execution_count": 3,
      "outputs": []
    },
    {
      "cell_type": "code",
      "source": [
        "train_dataset = datasets.MNIST(root='dataset/',     # 다운로드 경로 지정\n",
        "                            train=True,             # True를 지정하면 훈련 데이터로 다운로드\n",
        "                            download=True,\n",
        "                            transform=transforms.Compose([transforms.ToTensor(),  # 텐서로 변환\n",
        "                                                        transforms.Normalize(mean=(0.5,),std=(0.5,))])) # 이미지 정규화\n",
        "\n",
        "test_dataset = datasets.MNIST(root='dataset/',\n",
        "                         train=False,             # False를 지정하면 테스트 데이터로 다운로드\n",
        "                         download=True,\n",
        "                         transform=transforms.Compose([transforms.ToTensor(),\n",
        "                                                      transforms.Normalize(mean=(0.5,),std=(0.5,))]))\n",
        "\n",
        "# Dataloader를 사용하여 배치 크기 지정\n",
        "train_loader = torch.utils.data.DataLoader(train_dataset,\n",
        "                                        batch_size=batch_size,\n",
        "                                        shuffle=True)\n",
        "test_loader = torch.utils.data.DataLoader(test_dataset,\n",
        "                                          batch_size=batch_size,\n",
        "                                          shuffle=False)"
      ],
      "metadata": {
        "colab": {
          "base_uri": "https://localhost:8080/"
        },
        "id": "5cuvYfGyHSjs",
        "outputId": "d048a725-2962-478a-8428-3b7a843963b3"
      },
      "execution_count": 4,
      "outputs": [
        {
          "output_type": "stream",
          "name": "stdout",
          "text": [
            "Downloading http://yann.lecun.com/exdb/mnist/train-images-idx3-ubyte.gz\n",
            "Downloading http://yann.lecun.com/exdb/mnist/train-images-idx3-ubyte.gz to dataset/MNIST/raw/train-images-idx3-ubyte.gz\n"
          ]
        },
        {
          "output_type": "stream",
          "name": "stderr",
          "text": [
            "100%|██████████| 9912422/9912422 [00:00<00:00, 64137877.10it/s]\n"
          ]
        },
        {
          "output_type": "stream",
          "name": "stdout",
          "text": [
            "Extracting dataset/MNIST/raw/train-images-idx3-ubyte.gz to dataset/MNIST/raw\n",
            "\n",
            "Downloading http://yann.lecun.com/exdb/mnist/train-labels-idx1-ubyte.gz\n",
            "Downloading http://yann.lecun.com/exdb/mnist/train-labels-idx1-ubyte.gz to dataset/MNIST/raw/train-labels-idx1-ubyte.gz\n"
          ]
        },
        {
          "output_type": "stream",
          "name": "stderr",
          "text": [
            "100%|██████████| 28881/28881 [00:00<00:00, 84532933.58it/s]\n"
          ]
        },
        {
          "output_type": "stream",
          "name": "stdout",
          "text": [
            "Extracting dataset/MNIST/raw/train-labels-idx1-ubyte.gz to dataset/MNIST/raw\n",
            "\n",
            "Downloading http://yann.lecun.com/exdb/mnist/t10k-images-idx3-ubyte.gz\n",
            "Downloading http://yann.lecun.com/exdb/mnist/t10k-images-idx3-ubyte.gz to dataset/MNIST/raw/t10k-images-idx3-ubyte.gz\n"
          ]
        },
        {
          "output_type": "stream",
          "name": "stderr",
          "text": [
            "100%|██████████| 1648877/1648877 [00:00<00:00, 20970273.64it/s]\n"
          ]
        },
        {
          "output_type": "stream",
          "name": "stdout",
          "text": [
            "Extracting dataset/MNIST/raw/t10k-images-idx3-ubyte.gz to dataset/MNIST/raw\n",
            "\n",
            "Downloading http://yann.lecun.com/exdb/mnist/t10k-labels-idx1-ubyte.gz\n",
            "Downloading http://yann.lecun.com/exdb/mnist/t10k-labels-idx1-ubyte.gz to dataset/MNIST/raw/t10k-labels-idx1-ubyte.gz\n"
          ]
        },
        {
          "output_type": "stream",
          "name": "stderr",
          "text": [
            "100%|██████████| 4542/4542 [00:00<00:00, 14564624.44it/s]"
          ]
        },
        {
          "output_type": "stream",
          "name": "stdout",
          "text": [
            "Extracting dataset/MNIST/raw/t10k-labels-idx1-ubyte.gz to dataset/MNIST/raw\n",
            "\n"
          ]
        },
        {
          "output_type": "stream",
          "name": "stderr",
          "text": [
            "\n"
          ]
        }
      ]
    },
    {
      "cell_type": "code",
      "source": [
        "class CNN(torch.nn.Module):\n",
        "    def __init__(self):\n",
        "        super(CNN, self).__init__()\n",
        "\n",
        "        # 첫 번째 layer\n",
        "        self.layer1 = torch.nn.Sequential(\n",
        "            torch.nn.Conv2d(1, 32, kernel_size=5, stride=1),\n",
        "            torch.nn.MaxPool2d(kernel_size=2)\n",
        "            )\n",
        "\n",
        "        # 두 번째 layer\n",
        "        self.layer2 = torch.nn.Sequential(\n",
        "            torch.nn.Conv2d(32, 64, kernel_size=5, stride=1),\n",
        "            torch.nn.MaxPool2d(kernel_size=2)\n",
        "            )\n",
        "\n",
        "        # 첫 번째 fully-connected layer: 4x4x64 inputs -> 32 outputs\n",
        "        self.fc1 = torch.nn.Linear(4*4*64, 32, bias=True)\n",
        "        self.relu = torch.nn.ReLU()\n",
        "\n",
        "        # 두 번째 fully-connected layer: 32 inputs -> 10 outputs\n",
        "        self.fc2 = torch.nn.Linear(32, 10, bias=True)\n",
        "\n",
        "    def forward(self, x):\n",
        "        x = self.layer1(x)\n",
        "        x = self.layer2(x)\n",
        "        x = x.view(x.size(0), -1)   # Fully-connected layer를 위해서 Flatten.\n",
        "        x = self.fc1(x)\n",
        "        x = self.relu(x)\n",
        "        x = self.fc2(x)\n",
        "        return x\n",
        "\n",
        "model = CNN().to(device)   # GPU에서 연산 수행하기 위해 device로 보냄\n",
        "# 모델 구성 출력\n",
        "print(model)"
      ],
      "metadata": {
        "colab": {
          "base_uri": "https://localhost:8080/"
        },
        "id": "hdw82LmpHfbl",
        "outputId": "af1f2910-6062-414b-dc00-c2e8c3054b61"
      },
      "execution_count": 5,
      "outputs": [
        {
          "output_type": "stream",
          "name": "stdout",
          "text": [
            "CNN(\n",
            "  (layer1): Sequential(\n",
            "    (0): Conv2d(1, 32, kernel_size=(5, 5), stride=(1, 1))\n",
            "    (1): MaxPool2d(kernel_size=2, stride=2, padding=0, dilation=1, ceil_mode=False)\n",
            "  )\n",
            "  (layer2): Sequential(\n",
            "    (0): Conv2d(32, 64, kernel_size=(5, 5), stride=(1, 1))\n",
            "    (1): MaxPool2d(kernel_size=2, stride=2, padding=0, dilation=1, ceil_mode=False)\n",
            "  )\n",
            "  (fc1): Linear(in_features=1024, out_features=32, bias=True)\n",
            "  (relu): ReLU()\n",
            "  (fc2): Linear(in_features=32, out_features=10, bias=True)\n",
            ")\n"
          ]
        }
      ]
    },
    {
      "cell_type": "code",
      "source": [
        "# cost function과 optimizer 정의\n",
        "criterion = torch.nn.CrossEntropyLoss().to(device)    # 비용 함수에 소프트맥스 함수가 포함되어 있음\n",
        "optimizer = torch.optim.Adam(model.parameters(), lr=learning_rate)"
      ],
      "metadata": {
        "id": "RUF1aCPJHjn0"
      },
      "execution_count": 6,
      "outputs": []
    },
    {
      "cell_type": "code",
      "source": [
        "# 모델 학습\n",
        "model.train()\n",
        "loss_list = []\n",
        "\n",
        "for epoch in range(epochs):\n",
        "  avg_loss = 0.0\n",
        "  total_loss = 0.0\n",
        "  for iter, data in enumerate(train_loader):\n",
        "    optimizer.zero_grad()\n",
        "    images, labels = data\n",
        "    images = images.to(device)\n",
        "    labels = labels.to(device)\n",
        "\n",
        "    output = model(images)\n",
        "    loss = criterion(output, labels)\n",
        "    loss.backward()\n",
        "    optimizer.step()\n",
        "    avg_loss += loss.item()\n",
        "    total_loss += loss.item()\n",
        "\n",
        "    if (iter+1) % 100==0:\n",
        "      print('Train Epoch: {} [{}/{}]\\tLoss: {:.5f}'.format(\n",
        "      epoch+1, iter+1, len(train_loader), avg_loss/100.))\n",
        "      avg_loss = 0.0\n",
        "  loss_list.append(total_loss/(iter+1))\n",
        "print('\\nLearning finished!')"
      ],
      "metadata": {
        "colab": {
          "base_uri": "https://localhost:8080/"
        },
        "id": "MK3TS9xKHlvF",
        "outputId": "ff515872-76db-4578-9deb-d9f99472f20c"
      },
      "execution_count": 7,
      "outputs": [
        {
          "output_type": "stream",
          "name": "stdout",
          "text": [
            "Train Epoch: 1 [100/469]\tLoss: 0.50873\n",
            "Train Epoch: 1 [200/469]\tLoss: 0.16491\n",
            "Train Epoch: 1 [300/469]\tLoss: 0.12075\n",
            "Train Epoch: 1 [400/469]\tLoss: 0.09839\n",
            "Train Epoch: 2 [100/469]\tLoss: 0.06761\n",
            "Train Epoch: 2 [200/469]\tLoss: 0.07096\n",
            "Train Epoch: 2 [300/469]\tLoss: 0.06960\n",
            "Train Epoch: 2 [400/469]\tLoss: 0.06260\n",
            "Train Epoch: 3 [100/469]\tLoss: 0.05232\n",
            "Train Epoch: 3 [200/469]\tLoss: 0.04198\n",
            "Train Epoch: 3 [300/469]\tLoss: 0.04666\n",
            "Train Epoch: 3 [400/469]\tLoss: 0.04643\n",
            "Train Epoch: 4 [100/469]\tLoss: 0.03532\n",
            "Train Epoch: 4 [200/469]\tLoss: 0.03669\n",
            "Train Epoch: 4 [300/469]\tLoss: 0.03632\n",
            "Train Epoch: 4 [400/469]\tLoss: 0.03859\n",
            "Train Epoch: 5 [100/469]\tLoss: 0.02904\n",
            "Train Epoch: 5 [200/469]\tLoss: 0.02973\n",
            "Train Epoch: 5 [300/469]\tLoss: 0.02774\n",
            "Train Epoch: 5 [400/469]\tLoss: 0.03339\n",
            "Train Epoch: 6 [100/469]\tLoss: 0.02331\n",
            "Train Epoch: 6 [200/469]\tLoss: 0.02584\n",
            "Train Epoch: 6 [300/469]\tLoss: 0.03020\n",
            "Train Epoch: 6 [400/469]\tLoss: 0.02432\n",
            "Train Epoch: 7 [100/469]\tLoss: 0.01625\n",
            "Train Epoch: 7 [200/469]\tLoss: 0.01958\n",
            "Train Epoch: 7 [300/469]\tLoss: 0.01912\n",
            "Train Epoch: 7 [400/469]\tLoss: 0.02364\n",
            "Train Epoch: 8 [100/469]\tLoss: 0.01581\n",
            "Train Epoch: 8 [200/469]\tLoss: 0.01650\n",
            "Train Epoch: 8 [300/469]\tLoss: 0.01741\n",
            "Train Epoch: 8 [400/469]\tLoss: 0.02710\n",
            "Train Epoch: 9 [100/469]\tLoss: 0.01094\n",
            "Train Epoch: 9 [200/469]\tLoss: 0.00994\n",
            "Train Epoch: 9 [300/469]\tLoss: 0.02019\n",
            "Train Epoch: 9 [400/469]\tLoss: 0.01734\n",
            "Train Epoch: 10 [100/469]\tLoss: 0.01648\n",
            "Train Epoch: 10 [200/469]\tLoss: 0.01386\n",
            "Train Epoch: 10 [300/469]\tLoss: 0.01582\n",
            "Train Epoch: 10 [400/469]\tLoss: 0.01856\n",
            "Train Epoch: 11 [100/469]\tLoss: 0.01057\n",
            "Train Epoch: 11 [200/469]\tLoss: 0.01177\n",
            "Train Epoch: 11 [300/469]\tLoss: 0.00987\n",
            "Train Epoch: 11 [400/469]\tLoss: 0.01504\n",
            "Train Epoch: 12 [100/469]\tLoss: 0.01013\n",
            "Train Epoch: 12 [200/469]\tLoss: 0.01134\n",
            "Train Epoch: 12 [300/469]\tLoss: 0.01375\n",
            "Train Epoch: 12 [400/469]\tLoss: 0.00939\n",
            "Train Epoch: 13 [100/469]\tLoss: 0.01320\n",
            "Train Epoch: 13 [200/469]\tLoss: 0.00927\n",
            "Train Epoch: 13 [300/469]\tLoss: 0.01256\n",
            "Train Epoch: 13 [400/469]\tLoss: 0.00926\n",
            "Train Epoch: 14 [100/469]\tLoss: 0.00766\n",
            "Train Epoch: 14 [200/469]\tLoss: 0.00480\n",
            "Train Epoch: 14 [300/469]\tLoss: 0.00890\n",
            "Train Epoch: 14 [400/469]\tLoss: 0.00859\n",
            "Train Epoch: 15 [100/469]\tLoss: 0.00654\n",
            "Train Epoch: 15 [200/469]\tLoss: 0.01013\n",
            "Train Epoch: 15 [300/469]\tLoss: 0.01812\n",
            "Train Epoch: 15 [400/469]\tLoss: 0.01842\n",
            "\n",
            "Learning finished!\n"
          ]
        }
      ]
    },
    {
      "cell_type": "code",
      "source": [
        "# Loss graph\n",
        "plt.plot(range(1,epochs+1), loss_list)\n",
        "plt.xlabel('Epoch')\n",
        "plt.ylabel('Loss')\n",
        "plt.title('Train Loss Graph')\n",
        "plt.show()"
      ],
      "metadata": {
        "colab": {
          "base_uri": "https://localhost:8080/",
          "height": 472
        },
        "id": "sQdOjNa2N3ZB",
        "outputId": "e42817b4-7040-4d9a-cb1c-7913028b263b"
      },
      "execution_count": 8,
      "outputs": [
        {
          "output_type": "display_data",
          "data": {
            "text/plain": [
              "<Figure size 640x480 with 1 Axes>"
            ],
            "image/png": "[encoded data removed]"
          },
          "metadata": {}
        }
      ]
    },
    {
      "cell_type": "code",
      "source": [
        "# 모델 성능 확인\n",
        "with torch.no_grad(): # torch.no_grad(): gradient 계산을 수행하지 않음\n",
        "  model.eval()\n",
        "  accuracy = 0.0\n",
        "\n",
        "  for iter, data in enumerate(test_loader):\n",
        "    images, labels = data\n",
        "    images = images.to(device)\n",
        "    labels = labels.to(device)\n",
        "    output = model(images)\n",
        "    pred = torch.argmax(output,1) == labels\n",
        "    accuracy += pred.float().sum()\n",
        "\n",
        "  print(\"Accuracy : {:.2f}%\".format(100*accuracy/len(test_dataset)))\n",
        "\n",
        "  # 테스트 데이터에서 무작위로 하나를 뽑아서 예측\n",
        "  r = random.randint(0, len(test_dataset)-1)\n",
        "  X_single_data = test_dataset.data[r].view(1, 1, 28, 28).float().to(device)\n",
        "  Y_single_data = test_dataset.targets[r].to(device)\n",
        "\n",
        "  print('Label: ', Y_single_data.item())\n",
        "  single_prediction = model(X_single_data)\n",
        "  print('Prediction: ', torch.argmax(single_prediction, 1).item())\n",
        "\n",
        "  plt.imshow(test_dataset.data[r].view(28, 28), cmap='gray')\n",
        "  plt.show()"
      ],
      "metadata": {
        "colab": {
          "base_uri": "https://localhost:8080/",
          "height": 485
        },
        "id": "esyLmROZN71E",
        "outputId": "f5b54ade-d2f2-43f5-df4c-8fe2f170c4ca"
      },
      "execution_count": 9,
      "outputs": [
        {
          "output_type": "stream",
          "name": "stdout",
          "text": [
            "Accuracy : 98.59%\n",
            "Label:  5\n",
            "Prediction:  5\n"
          ]
        },
        {
          "output_type": "display_data",
          "data": {
            "text/plain": [
              "<Figure size 640x480 with 1 Axes>"
            ],
            "image/png": "[encoded data removed]"
          },
          "metadata": {}
        }
      ]
    },
    {
      "cell_type": "code",
      "source": [
        "# 모델의 weight만 저장\n",
        "torch.save(model.state_dict(),'cnn_weight.pth')"
      ],
      "metadata": {
        "id": "NOS1wcHGOAyR"
      },
      "execution_count": 10,
      "outputs": []
    },
    {
      "cell_type": "code",
      "source": [
        "# 모델 통째로 저장\n",
        "torch.save(model,'cnn.pth')"
      ],
      "metadata": {
        "id": "9rRDNHfCODTF"
      },
      "execution_count": 11,
      "outputs": []
    }
  ]
}